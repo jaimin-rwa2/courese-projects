{
 "cells": [
  {
   "cell_type": "markdown",
   "id": "9b28fba8",
   "metadata": {},
   "source": [
    "1. how to access the value"
   ]
  },
  {
   "cell_type": "code",
   "execution_count": null,
   "id": "05f7e1b4",
   "metadata": {},
   "outputs": [],
   "source": [
    "marks = [10, 20, 30, 40, 50]\n",
    "one_marks = marks[2]\n",
    "\n",
    "user = {\n",
    "    \"username\": \"MrJemmy\",\n",
    "    \"email\": \"jbpatel1411@gmail.com\",\n",
    "    \"phone_no\": 7041521968,\n",
    "    \"DOB\": \"14-11-1999\"\n",
    "}\n",
    "user_phone_no = user[\"phone_no\"]"
   ]
  },
  {
   "cell_type": "markdown",
   "id": "fde30f57",
   "metadata": {},
   "source": [
    "2. how up update value in list (want to update value 30 to 33) also update value in dict (want to update username from \"Mrjemmy\" to \"jaimin\")"
   ]
  },
  {
   "cell_type": "code",
   "execution_count": null,
   "id": "09f82721",
   "metadata": {},
   "outputs": [],
   "source": [
    "marks = [10, 20, 30, 40, 50]\n",
    "\n",
    "user = {\n",
    "    \"username\": \"MrJemmy\",\n",
    "    \"email\": \"jbpatel1411@gmail.com\",\n",
    "    \"phone_no\": 7041521968,\n",
    "    \"DOB\": \"14-11-1999\"\n",
    "}"
   ]
  },
  {
   "cell_type": "markdown",
   "id": "47d743ad",
   "metadata": {},
   "source": [
    "3. how up update value in tuple (want to update value 30 to 33)"
   ]
  },
  {
   "cell_type": "code",
   "execution_count": null,
   "id": "49747051",
   "metadata": {},
   "outputs": [],
   "source": [
    "marks = (10, 20, 30, 40, 50)"
   ]
  },
  {
   "cell_type": "markdown",
   "id": "c9d1e77f",
   "metadata": {},
   "source": [
    "4. how to add new value in list and dict and in tuple"
   ]
  },
  {
   "cell_type": "code",
   "execution_count": null,
   "id": "91788aa6",
   "metadata": {},
   "outputs": [],
   "source": [
    "marks = [10, 20, 30, 40, 50]\n",
    "\n",
    "user = {\n",
    "    \"username\": \"MrJemmy\",\n",
    "    \"email\": \"jbpatel1411@gmail.com\",\n",
    "    \"phone_no\": 7041521968,\n",
    "    \"DOB\": \"14-11-1999\"\n",
    "}\n",
    "\n",
    "marks = (10, 20, 30, 40, 50)"
   ]
  }
 ],
 "metadata": {
  "language_info": {
   "name": "python"
  }
 },
 "nbformat": 4,
 "nbformat_minor": 5
}
