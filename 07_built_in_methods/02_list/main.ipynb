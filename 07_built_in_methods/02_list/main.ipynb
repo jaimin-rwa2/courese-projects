{
 "cells": [
  {
   "cell_type": "code",
   "execution_count": 82,
   "id": "429efda6",
   "metadata": {},
   "outputs": [
    {
     "data": {
      "text/plain": [
       "[1, 2, 3, 4, 5]"
      ]
     },
     "execution_count": 82,
     "metadata": {},
     "output_type": "execute_result"
    }
   ],
   "source": [
    "my_list = [1, 2, 3, 4 ,5]\n",
    "my_list"
   ]
  },
  {
   "cell_type": "markdown",
   "id": "ba880e0c",
   "metadata": {},
   "source": [
    "list value add"
   ]
  },
  {
   "cell_type": "code",
   "execution_count": 83,
   "id": "5e228d52",
   "metadata": {},
   "outputs": [
    {
     "name": "stdout",
     "output_type": "stream",
     "text": [
      "[1, 2, 3, 4, 5, 6]\n"
     ]
    }
   ],
   "source": [
    "my_list.append(6)\n",
    "print(my_list)"
   ]
  },
  {
   "cell_type": "code",
   "execution_count": 84,
   "id": "4a0033f6",
   "metadata": {},
   "outputs": [
    {
     "data": {
      "text/plain": [
       "[1, 2, 3, 4, 5, 6, 11, 12, 12, 14, 15, 16]"
      ]
     },
     "execution_count": 84,
     "metadata": {},
     "output_type": "execute_result"
    }
   ],
   "source": [
    "your_list = [11, 12, 12, 14, 15, 16]\n",
    "\n",
    "my_list.extend(your_list)\n",
    "\n",
    "my_list"
   ]
  },
  {
   "cell_type": "code",
   "execution_count": 85,
   "id": "ff6e4e8f",
   "metadata": {},
   "outputs": [
    {
     "data": {
      "text/plain": [
       "[1, 2, 3, 4, 5, 6, 7, 11, 12, 12, 14, 15, 16]"
      ]
     },
     "execution_count": 85,
     "metadata": {},
     "output_type": "execute_result"
    }
   ],
   "source": [
    "my_list.insert(6, 7)\n",
    "my_list"
   ]
  },
  {
   "cell_type": "markdown",
   "id": "b97f1a67",
   "metadata": {},
   "source": [
    "list value delete"
   ]
  },
  {
   "cell_type": "code",
   "execution_count": 86,
   "id": "0332c9e9",
   "metadata": {},
   "outputs": [
    {
     "data": {
      "text/plain": [
       "[1, 2, 3, 4, 5, 6, 7, 12, 12, 14, 15]"
      ]
     },
     "execution_count": 86,
     "metadata": {},
     "output_type": "execute_result"
    }
   ],
   "source": [
    "my_list.pop()  # last value\n",
    "my_list.pop(7) # based on index\n",
    "my_list"
   ]
  },
  {
   "cell_type": "code",
   "execution_count": 87,
   "id": "4c9c1bcb",
   "metadata": {},
   "outputs": [
    {
     "data": {
      "text/plain": [
       "[1, 2, 3, 4, 5, 6, 7, 12, 14, 15]"
      ]
     },
     "execution_count": 87,
     "metadata": {},
     "output_type": "execute_result"
    }
   ],
   "source": [
    "my_list.remove(12) # remove only first encoutered value\n",
    "my_list"
   ]
  },
  {
   "cell_type": "code",
   "execution_count": 88,
   "id": "872b179b",
   "metadata": {},
   "outputs": [],
   "source": [
    "# del my_list  # removed from memory\n",
    "# my_list"
   ]
  },
  {
   "cell_type": "code",
   "execution_count": 89,
   "id": "91c81e2a",
   "metadata": {},
   "outputs": [
    {
     "data": {
      "text/plain": [
       "[1, 2, 3, 4, 5, 6, 12, 14, 15]"
      ]
     },
     "execution_count": 89,
     "metadata": {},
     "output_type": "execute_result"
    }
   ],
   "source": [
    "del my_list[6]\n",
    "my_list"
   ]
  },
  {
   "cell_type": "markdown",
   "id": "ed4485fd",
   "metadata": {},
   "source": [
    "Access Elements"
   ]
  },
  {
   "cell_type": "code",
   "execution_count": 90,
   "id": "84f060e6",
   "metadata": {},
   "outputs": [
    {
     "name": "stdout",
     "output_type": "stream",
     "text": [
      "2\n"
     ]
    }
   ],
   "source": [
    "value = 3\n",
    "if value in my_list:\n",
    "    print(my_list.index(value))\n",
    "else:\n",
    "    print(-1)"
   ]
  },
  {
   "cell_type": "code",
   "execution_count": 91,
   "id": "f8ebd322",
   "metadata": {},
   "outputs": [
    {
     "data": {
      "text/plain": [
       "3"
      ]
     },
     "execution_count": 91,
     "metadata": {},
     "output_type": "execute_result"
    }
   ],
   "source": [
    "my_list.append(12)\n",
    "my_list.append(12)\n",
    "my_list.count(12)"
   ]
  },
  {
   "cell_type": "markdown",
   "id": "fbc1ebf2",
   "metadata": {},
   "source": []
  },
  {
   "cell_type": "code",
   "execution_count": 92,
   "id": "2e90b2cd",
   "metadata": {},
   "outputs": [
    {
     "name": "stdout",
     "output_type": "stream",
     "text": [
      "[1, 2, 3, 4, 5, 6, 12, 14, 15, 12, 12]\n",
      "[1, 2, 3, 4, 5, 6, 12, 14, 15, 12, 12, 222]\n"
     ]
    }
   ],
   "source": [
    "# shallow copy\n",
    "# direct_my_list = my_list\n",
    "# direct_my_list.append(111)\n",
    "# print(my_list)\n",
    "# print(direct_my_list)\n",
    "\n",
    "# deep copy\n",
    "copy_my_list = my_list.copy()\n",
    "copy_my_list.append(222)\n",
    "print(my_list)\n",
    "print(copy_my_list)"
   ]
  }
 ],
 "metadata": {
  "kernelspec": {
   "display_name": "Python 3",
   "language": "python",
   "name": "python3"
  },
  "language_info": {
   "codemirror_mode": {
    "name": "ipython",
    "version": 3
   },
   "file_extension": ".py",
   "mimetype": "text/x-python",
   "name": "python",
   "nbconvert_exporter": "python",
   "pygments_lexer": "ipython3",
   "version": "3.13.3"
  }
 },
 "nbformat": 4,
 "nbformat_minor": 5
}
